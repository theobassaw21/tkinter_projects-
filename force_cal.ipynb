{
 "cells": [
  {
   "cell_type": "code",
   "execution_count": 2,
   "id": "9a184d08",
   "metadata": {},
   "outputs": [],
   "source": [
    "import tkinter"
   ]
  },
  {
   "cell_type": "code",
   "execution_count": 13,
   "id": "f55202f4",
   "metadata": {},
   "outputs": [],
   "source": [
    "def force():\n",
    "    force = int(mass_entry.get()) * int(grav_entry.get())\n",
    "    button_entry.insert(0,string=str(force))"
   ]
  },
  {
   "cell_type": "code",
   "execution_count": 27,
   "id": "5b9804bb",
   "metadata": {},
   "outputs": [],
   "source": [
    "window = tkinter.Tk()\n",
    "window.title('FORCE')\n",
    "window.geometry('600x400')\n",
    "\n",
    "mass_label = tkinter.Label(window,text='MASS')\n",
    "mass_entry = tkinter.Entry(window)\n",
    "\n",
    "grav_label = tkinter.Label(window,text='GRAVITY')\n",
    "grav_entry = tkinter.Entry(window)\n",
    "\n",
    "button = tkinter.Button(window,text='FORCE GIVING BY',command=force)\n",
    "button_entry = tkinter.Entry(window)\n",
    "\n",
    "mass_label.grid(row=0,column=0)\n",
    "mass_entry.grid(row=0,column=1)\n",
    "grav_label.grid(row=1,column=0)\n",
    "grav_entry.grid(row=1,column=1)\n",
    "button.grid(row=2,column=0)\n",
    "button_entry.grid(row=2,column=1)\n",
    "\n",
    "window.mainloop()"
   ]
  }
 ],
 "metadata": {
  "kernelspec": {
   "display_name": "Python 3 (ipykernel)",
   "language": "python",
   "name": "python3"
  },
  "language_info": {
   "codemirror_mode": {
    "name": "ipython",
    "version": 3
   },
   "file_extension": ".py",
   "mimetype": "text/x-python",
   "name": "python",
   "nbconvert_exporter": "python",
   "pygments_lexer": "ipython3",
   "version": "3.9.12"
  }
 },
 "nbformat": 4,
 "nbformat_minor": 5
}
