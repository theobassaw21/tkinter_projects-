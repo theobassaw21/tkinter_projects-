{
 "cells": [
  {
   "cell_type": "code",
   "execution_count": 37,
   "id": "3e2db6c4",
   "metadata": {},
   "outputs": [],
   "source": [
    "import tkinter\n",
    "from tkinter import messagebox"
   ]
  },
  {
   "cell_type": "code",
   "execution_count": 42,
   "id": "c6bc540c",
   "metadata": {},
   "outputs": [],
   "source": [
    "window = tkinter.Tk()\n",
    "window.title('login form')\n",
    "window.geometry('600x400')\n",
    "window.configure(bg='black')\n",
    "\n",
    "def welcome():\n",
    "    username = 'Theophilus'\n",
    "    password = 'sikamp3dede'\n",
    "    if user_entry.get()==username and pass_entry.get()==password:\n",  #get user entry and password entry if eguals username and password variable
    "        messagebox.showinfo(title='login success',message ='you successfully logged in')\n",
    "    else:\n",
    "        messagebox.showinfo(title='ERROR',message='invalid login.')\n", #else tell user he/she has entered wrong inputs
    "     \n",
    "\n",
    "frame = tkinter.Frame(bg='black')\n",
    "frame.pack()\n",
    "\n",
    "login_label = tkinter.Label(frame,text='login',bg='black',fg='white',font=('Arial',40))\n",
    "user_label = tkinter.Label(frame,text='username',bg='black',fg='white',font=('Arial',15),pady=20)\n",
    "user_entry = tkinter.Entry(frame,font=('Arial',15))\n",
    "pass_label = tkinter.Label(frame,text='password',bg='black',fg='white',font=('Arial',15),pady=20)\n",
    "pass_entry = tkinter.Entry(frame,show='*',font=('Arial',15))\n",
    "logg_button = tkinter.Button(frame,text='login',font=('Arial',15),command=welcome)\n",
    "\n",
    "login_label.grid(row=0,column=0,columnspan=2,sticky ='news',pady=30)\n",
    "user_label.grid(row=1,column=0)\n",
    "user_entry.grid(row=1,column=1)\n",
    "pass_label.grid(row=2,column=0)\n",
    "pass_entry.grid(row=2,column=1)\n",
    "logg_button.grid(row=3,column=0,columnspan=2,pady=30)\n",
    "\n",
    "\n",
    "window.mainloop()"
   ]
  }
 ],
 "metadata": {
  "kernelspec": {
   "display_name": "Python 3 (ipykernel)",
   "language": "python",
   "name": "python3"
  },
  "language_info": {
   "codemirror_mode": {
    "name": "ipython",
    "version": 3
   },
   "file_extension": ".py",
   "mimetype": "text/x-python",
   "name": "python",
   "nbconvert_exporter": "python",
   "pygments_lexer": "ipython3",
   "version": "3.9.12"
  }
 },
 "nbformat": 4,
 "nbformat_minor": 5
}
