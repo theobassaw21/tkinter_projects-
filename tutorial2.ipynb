{
 "cells": [
  {
   "cell_type": "code",
   "execution_count": 1,
   "id": "71e03975",
   "metadata": {},
   "outputs": [],
   "source": [
    "import tkinter"
   ]
  },
  {
   "cell_type": "code",
   "execution_count": 11,
   "id": "f7c9a7de",
   "metadata": {},
   "outputs": [],
   "source": []
  },
  {
   "cell_type": "code",
   "execution_count": 13,
   "id": "969c2b86",
   "metadata": {},
   "outputs": [
    {
     "name": "stdout",
     "output_type": "stream",
     "text": [
      "password\n"
     ]
    }
   ],
   "source": [
    "window = tkinter.Tk()\n",
    "window.title('SECOND TUTORIAL')\n",
    "window.geometry('600x400')\n",
    "\n",
    "def func():\n",
    "    print(txt_entry.get())\n",
    "\n",
    "\n",
    "label = tkinter.Label(window,text='login form')\n",
    "label.pack()\n",
    "\n",
    "txt_entry = tkinter.Entry(window)\n",
    "txt_entry.pack()\n",
    "\n",
    "button = tkinter.Button(window,text='login',activebackground='black',activeforeground='white',\n",
    "                       command=func)\n",
    "button.pack()\n",
    "\n",
    "window.mainloop()"
   ]
  }
 ],
 "metadata": {
  "kernelspec": {
   "display_name": "Python 3 (ipykernel)",
   "language": "python",
   "name": "python3"
  },
  "language_info": {
   "codemirror_mode": {
    "name": "ipython",
    "version": 3
   },
   "file_extension": ".py",
   "mimetype": "text/x-python",
   "name": "python",
   "nbconvert_exporter": "python",
   "pygments_lexer": "ipython3",
   "version": "3.9.12"
  }
 },
 "nbformat": 4,
 "nbformat_minor": 5
}
