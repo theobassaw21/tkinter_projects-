{
 "cells": [
  {
   "cell_type": "code",
   "execution_count": 13,
   "id": "fa524c0e",
   "metadata": {},
   "outputs": [],
   "source": [
    "import tkinter"
   ]
  },
  {
   "cell_type": "code",
   "execution_count": 15,
   "id": "b66252da",
   "metadata": {},
   "outputs": [],
   "source": [
    "def hello():\n",
    "    print('Hello World!')"
   ]
  },
  {
   "cell_type": "code",
   "execution_count": 22,
   "id": "6812ba2f",
   "metadata": {},
   "outputs": [],
   "source": [
    "window = tkinter.Tk()\n",
    "window.title('TKINTER TUTORIALS')\n",
    "window.geometry('600x400')\n",
    "\n",
    "frame = tkinter.Frame(window)\n",
    "label = tkinter.Label(frame,text='Hello World')\n",
    "label.pack()\n",
    "button = tkinter.Button(frame,text='Hello World',command=hello)\n",
    "button.pack()\n",
    "\n",
    "window.mainloop()"
   ]
  }
 ],
 "metadata": {
  "kernelspec": {
   "display_name": "Python 3 (ipykernel)",
   "language": "python",
   "name": "python3"
  },
  "language_info": {
   "codemirror_mode": {
    "name": "ipython",
    "version": 3
   },
   "file_extension": ".py",
   "mimetype": "text/x-python",
   "name": "python",
   "nbconvert_exporter": "python",
   "pygments_lexer": "ipython3",
   "version": "3.9.12"
  }
 },
 "nbformat": 4,
 "nbformat_minor": 5
}
