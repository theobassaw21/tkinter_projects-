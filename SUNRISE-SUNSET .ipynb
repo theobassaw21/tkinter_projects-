{
 "cells": [
  {
   "cell_type": "code",
   "execution_count": 1,
   "id": "f21afb69",
   "metadata": {},
   "outputs": [],
   "source": [
    "from tkinter import*\n",
    "from geopy.geocoders import Nominatim\n",
    "import datetime\n",
    "from suntime import Sun"
   ]
  },
  {
   "cell_type": "code",
   "execution_count": 5,
   "id": "97a10957",
   "metadata": {},
   "outputs": [],
   "source": [
    "def sunr_s():\n",
    "    try:\n",
    "        geolocator = Nominatim(user_agent='geoapiExercises')\n",
    "        coor_d = str(entry.get())\n",
    "        location = geolocator.geocode(coor_d)\n",
    "        \n",
    "        latitude = location.latitude\n",
    "        longitude = location.longitude\n",
    "        \n",
    "        sunr_s = Sun(latitude,longitude)\n",
    "        time_zone = datetime.datetime.now()\n",
    "        \n",
    "        sun_rise = sunr_s.get_local_sunrise_time(time_zone)\n",
    "        sun_set  = sunr_s.get_local_sunset_time(time_zone)\n",
    "        \n",
    "        rise = sun_rise.strftime('%H:%M')\n",
    "        sett  = sun_set.strftime('%H:%M')\n",
    "        \n",
    "        result1.set(rise)\n",
    "        result2.set(sett)\n",
    "        \n",
    "    except:\n",
    "        result1.set(' you got the wrong stuff pal')\n"
   ]
  },
  {
   "cell_type": "code",
   "execution_count": 6,
   "id": "289a9121",
   "metadata": {},
   "outputs": [],
   "source": [
    "window = Tk()\n",
    "window.configure(bg='yellow')\n",
    "window.title(\"Sunset-Sunrise\")\n",
    "\n",
    "logo = PhotoImage(file='sun1.png')\n",
    "window.iconphoto(True,logo)\n",
    "\n",
    "result1 = StringVar()\n",
    "result2 = StringVar()\n",
    "\n",
    "Label(window, text=\"Enter location : \",\n",
    "      background=\"yellow\").grid(row=1, sticky=W)\n",
    "Label(window, text=\"Sunrise :\",\n",
    "      background=\"yellow\").grid(row=3, sticky=W)\n",
    "Label(window, text=\"Suset :\",\n",
    "     background=\"yellow\").grid(row=4, sticky=W)\n",
    "\n",
    "Label(window, text=\"\", textvariable=result1,\n",
    "      background=\"yellow\").grid(row=3, column=1, sticky=W)\n",
    "Label(window, text=\"\", textvariable=result2,\n",
    "      background=\"yellow\").grid(row=4, column=1, sticky=W)\n",
    "\n",
    "\n",
    "entry = Entry(window, width=50)\n",
    "entry.grid(row=1, column=1)\n",
    "\n",
    "button = Button(window, text=\"Check\",\n",
    "           command=sunr_s, bg=\"white\")\n",
    "button.grid(row=1, column=2, columnspan=2,\n",
    "       rowspan=2, padx=5, pady=5, )\n",
    "\n",
    "mainloop()"
   ]
  }
 ],
 "metadata": {
  "kernelspec": {
   "display_name": "Python 3 (ipykernel)",
   "language": "python",
   "name": "python3"
  },
  "language_info": {
   "codemirror_mode": {
    "name": "ipython",
    "version": 3
   },
   "file_extension": ".py",
   "mimetype": "text/x-python",
   "name": "python",
   "nbconvert_exporter": "python",
   "pygments_lexer": "ipython3",
   "version": "3.9.12"
  }
 },
 "nbformat": 4,
 "nbformat_minor": 5
}
